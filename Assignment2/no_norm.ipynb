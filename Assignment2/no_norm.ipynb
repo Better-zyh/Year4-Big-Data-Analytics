{
 "cells": [
  {
   "cell_type": "code",
   "execution_count": 1,
   "id": "b74ff21f",
   "metadata": {},
   "outputs": [],
   "source": [
    "#Load packages\n",
    "import pandas as pd\n",
    "import numpy as np\n",
    "from sklearn.model_selection import train_test_split\n",
    "from sklearn import metrics\n",
    "from sklearn.neighbors import KNeighborsClassifier\n",
    "from sklearn.ensemble import RandomForestClassifier\n",
    "from sklearn.ensemble import AdaBoostClassifier\n",
    "from sklearn.tree import DecisionTreeClassifier\n",
    "from sklearn.model_selection import GridSearchCV\n",
    "import matplotlib.pyplot as plt\n",
    "import seaborn as sns\n",
    "import xgboost\n",
    "from xgboost import XGBClassifier\n",
    "pd.set_option('display.max_columns', None)\n",
    "data=pd.read_excel('./int303-big-data-analysis/startup_train.xlsx')\n",
    "test_xlsx=pd.read_excel('./int303-big-data-analysis/startup_test_new.xlsx')\n",
    "# Convert closed to 0 and acquired to 1\n",
    "data['status'] = data.status.map({'acquired':1, 'closed':0})\n",
    "ID_list=test_xlsx['ID']"
   ]
  },
  {
   "cell_type": "code",
   "execution_count": 2,
   "id": "47abf7aa",
   "metadata": {},
   "outputs": [],
   "source": [
    "data.duplicated().sum()\n",
    "data.duplicated(subset=['name']).sum()\n",
    "data=data.drop_duplicates(subset=['name'])\n",
    "data.duplicated(subset=['name']).sum()\n",
    "data=data.drop(['Unnamed: 0','name','Unnamed: 6','zip_code',\n",
    "                'latitude','longitude','id','state_code','state_code.1','category_code','founded_at',\n",
    "                'first_funding_at', 'last_funding_at','object_id','city'],axis=1)\n",
    "data['age_first_milestone_year'] = data['age_first_milestone_year'].fillna(0)\n",
    "data['age_last_milestone_year'] = data['age_last_milestone_year'].fillna(0)\n",
    "data=data.drop(data[data.age_first_funding_year<0].index)\n",
    "data=data.drop(data[data.age_last_funding_year<0].index)\n",
    "data=data.drop(data[data.age_first_milestone_year<0].index)\n",
    "data=data.drop(data[data.age_last_milestone_year<0].index)"
   ]
  },
  {
   "cell_type": "code",
   "execution_count": 3,
   "id": "54c095f5",
   "metadata": {},
   "outputs": [],
   "source": [
    "# do the same operation for testing data\n",
    "# Drop duplicated data\n",
    "test_xlsx=test_xlsx.drop_duplicates(subset=['name'])\n",
    "# Remove useless attributes\n",
    "test_xlsx=test_xlsx.drop(['Unnamed: 0','name','Unnamed: 6','zip_code',\n",
    "                'latitude','longitude','id','state_code','state_code.1','category_code','founded_at',\n",
    "                'first_funding_at', 'last_funding_at','object_id','city','ID','status'],axis=1)\n",
    "# Fill null values\n",
    "test_xlsx['age_first_milestone_year'] = test_xlsx['age_first_milestone_year'].fillna(0)\n",
    "test_xlsx['age_last_milestone_year'] = test_xlsx['age_last_milestone_year'].fillna(0)"
   ]
  },
  {
   "cell_type": "code",
   "execution_count": 4,
   "id": "a0c6acd9",
   "metadata": {},
   "outputs": [],
   "source": [
    "#split the dataset into train and test sets\n",
    "train_data=data.loc[:,data.columns!='status']\n",
    "train_target=data.loc[:,'status']\n",
    "X_train, X_test, y_train, y_test = train_test_split(train_data, train_target,test_size=0.1)"
   ]
  },
  {
   "cell_type": "code",
   "execution_count": 5,
   "id": "2ac79dfd",
   "metadata": {},
   "outputs": [
    {
     "name": "stdout",
     "output_type": "stream",
     "text": [
      "Accuracy: 0.6233766233766234\n"
     ]
    }
   ],
   "source": [
    "#Create KNN Classifier\n",
    "knn = KNeighborsClassifier(n_neighbors=8) # Hyperparameter that can be changed\n",
    "#Train the model using the training sets\n",
    "knn.fit(X_train, y_train)\n",
    "y_pred = knn.predict(X_test)\n",
    "#Import scikit-learn metrics module for accuracy calculation\n",
    "\n",
    "# Model Accuracy, how often is the classifier correct?\n",
    "print(\"Accuracy:\",metrics.accuracy_score(y_test, y_pred))"
   ]
  },
  {
   "cell_type": "code",
   "execution_count": 24,
   "id": "c6b43626",
   "metadata": {},
   "outputs": [
    {
     "name": "stdout",
     "output_type": "stream",
     "text": [
      "Accuracy: 0.7922077922077922\n"
     ]
    }
   ],
   "source": [
    "# Random Forest\n",
    "# import class, instantiate estimator, fit with training set\n",
    "forest = RandomForestClassifier(n_estimators=100, max_depth=4, criterion=\"gini\")\n",
    "forest.fit(X_train, y_train)\n",
    "# make predictions\n",
    "y_pred = forest.predict(X_test)\n",
    "print(\"Accuracy:\",metrics.accuracy_score(y_test, y_pred))"
   ]
  },
  {
   "cell_type": "code",
   "execution_count": 12,
   "id": "b0d0f038",
   "metadata": {},
   "outputs": [
    {
     "data": {
      "text/html": [
       "<div>\n",
       "<style scoped>\n",
       "    .dataframe tbody tr th:only-of-type {\n",
       "        vertical-align: middle;\n",
       "    }\n",
       "\n",
       "    .dataframe tbody tr th {\n",
       "        vertical-align: top;\n",
       "    }\n",
       "\n",
       "    .dataframe thead th {\n",
       "        text-align: right;\n",
       "    }\n",
       "</style>\n",
       "<table border=\"1\" class=\"dataframe\">\n",
       "  <thead>\n",
       "    <tr style=\"text-align: right;\">\n",
       "      <th></th>\n",
       "      <th>mean_fit_time</th>\n",
       "      <th>std_fit_time</th>\n",
       "      <th>mean_score_time</th>\n",
       "      <th>std_score_time</th>\n",
       "      <th>param_learning_rate</th>\n",
       "      <th>param_n_estimators</th>\n",
       "      <th>params</th>\n",
       "      <th>split0_test_score</th>\n",
       "      <th>split1_test_score</th>\n",
       "      <th>split2_test_score</th>\n",
       "      <th>split3_test_score</th>\n",
       "      <th>split4_test_score</th>\n",
       "      <th>mean_test_score</th>\n",
       "      <th>std_test_score</th>\n",
       "      <th>rank_test_score</th>\n",
       "    </tr>\n",
       "  </thead>\n",
       "  <tbody>\n",
       "    <tr>\n",
       "      <th>13</th>\n",
       "      <td>0.150208</td>\n",
       "      <td>0.003100</td>\n",
       "      <td>0.011658</td>\n",
       "      <td>0.002643</td>\n",
       "      <td>0.1625</td>\n",
       "      <td>103</td>\n",
       "      <td>{'learning_rate': 0.1625, 'n_estimators': 103}</td>\n",
       "      <td>0.827338</td>\n",
       "      <td>0.784173</td>\n",
       "      <td>0.798561</td>\n",
       "      <td>0.840580</td>\n",
       "      <td>0.775362</td>\n",
       "      <td>0.805203</td>\n",
       "      <td>0.024973</td>\n",
       "      <td>1</td>\n",
       "    </tr>\n",
       "    <tr>\n",
       "      <th>11</th>\n",
       "      <td>0.057955</td>\n",
       "      <td>0.000582</td>\n",
       "      <td>0.003739</td>\n",
       "      <td>0.000018</td>\n",
       "      <td>0.1625</td>\n",
       "      <td>37</td>\n",
       "      <td>{'learning_rate': 0.1625, 'n_estimators': 37}</td>\n",
       "      <td>0.820144</td>\n",
       "      <td>0.791367</td>\n",
       "      <td>0.784173</td>\n",
       "      <td>0.826087</td>\n",
       "      <td>0.797101</td>\n",
       "      <td>0.803774</td>\n",
       "      <td>0.016423</td>\n",
       "      <td>2</td>\n",
       "    </tr>\n",
       "    <tr>\n",
       "      <th>9</th>\n",
       "      <td>0.440929</td>\n",
       "      <td>0.009686</td>\n",
       "      <td>0.035201</td>\n",
       "      <td>0.003680</td>\n",
       "      <td>0.05</td>\n",
       "      <td>300</td>\n",
       "      <td>{'learning_rate': 0.05, 'n_estimators': 300}</td>\n",
       "      <td>0.820144</td>\n",
       "      <td>0.798561</td>\n",
       "      <td>0.791367</td>\n",
       "      <td>0.840580</td>\n",
       "      <td>0.760870</td>\n",
       "      <td>0.802304</td>\n",
       "      <td>0.026958</td>\n",
       "      <td>3</td>\n",
       "    </tr>\n",
       "    <tr>\n",
       "      <th>4</th>\n",
       "      <td>0.207894</td>\n",
       "      <td>0.009065</td>\n",
       "      <td>0.017909</td>\n",
       "      <td>0.003451</td>\n",
       "      <td>0.05</td>\n",
       "      <td>136</td>\n",
       "      <td>{'learning_rate': 0.05, 'n_estimators': 136}</td>\n",
       "      <td>0.820144</td>\n",
       "      <td>0.791367</td>\n",
       "      <td>0.784173</td>\n",
       "      <td>0.833333</td>\n",
       "      <td>0.775362</td>\n",
       "      <td>0.800876</td>\n",
       "      <td>0.022114</td>\n",
       "      <td>4</td>\n",
       "    </tr>\n",
       "    <tr>\n",
       "      <th>5</th>\n",
       "      <td>0.263061</td>\n",
       "      <td>0.013836</td>\n",
       "      <td>0.021834</td>\n",
       "      <td>0.006050</td>\n",
       "      <td>0.05</td>\n",
       "      <td>168</td>\n",
       "      <td>{'learning_rate': 0.05, 'n_estimators': 168}</td>\n",
       "      <td>0.812950</td>\n",
       "      <td>0.791367</td>\n",
       "      <td>0.791367</td>\n",
       "      <td>0.840580</td>\n",
       "      <td>0.768116</td>\n",
       "      <td>0.800876</td>\n",
       "      <td>0.024398</td>\n",
       "      <td>4</td>\n",
       "    </tr>\n",
       "  </tbody>\n",
       "</table>\n",
       "</div>"
      ],
      "text/plain": [
       "    mean_fit_time  std_fit_time  mean_score_time  std_score_time  \\\n",
       "13       0.150208      0.003100         0.011658        0.002643   \n",
       "11       0.057955      0.000582         0.003739        0.000018   \n",
       "9        0.440929      0.009686         0.035201        0.003680   \n",
       "4        0.207894      0.009065         0.017909        0.003451   \n",
       "5        0.263061      0.013836         0.021834        0.006050   \n",
       "\n",
       "   param_learning_rate param_n_estimators  \\\n",
       "13              0.1625                103   \n",
       "11              0.1625                 37   \n",
       "9                 0.05                300   \n",
       "4                 0.05                136   \n",
       "5                 0.05                168   \n",
       "\n",
       "                                            params  split0_test_score  \\\n",
       "13  {'learning_rate': 0.1625, 'n_estimators': 103}           0.827338   \n",
       "11   {'learning_rate': 0.1625, 'n_estimators': 37}           0.820144   \n",
       "9     {'learning_rate': 0.05, 'n_estimators': 300}           0.820144   \n",
       "4     {'learning_rate': 0.05, 'n_estimators': 136}           0.820144   \n",
       "5     {'learning_rate': 0.05, 'n_estimators': 168}           0.812950   \n",
       "\n",
       "    split1_test_score  split2_test_score  split3_test_score  \\\n",
       "13           0.784173           0.798561           0.840580   \n",
       "11           0.791367           0.784173           0.826087   \n",
       "9            0.798561           0.791367           0.840580   \n",
       "4            0.791367           0.784173           0.833333   \n",
       "5            0.791367           0.791367           0.840580   \n",
       "\n",
       "    split4_test_score  mean_test_score  std_test_score  rank_test_score  \n",
       "13           0.775362         0.805203        0.024973                1  \n",
       "11           0.797101         0.803774        0.016423                2  \n",
       "9            0.760870         0.802304        0.026958                3  \n",
       "4            0.775362         0.800876        0.022114                4  \n",
       "5            0.768116         0.800876        0.024398                4  "
      ]
     },
     "execution_count": 12,
     "metadata": {},
     "output_type": "execute_result"
    }
   ],
   "source": [
    "# GridSearchCV for Adaboost\n",
    "ab = AdaBoostClassifier()\n",
    "params = {\n",
    "    'n_estimators': np.linspace(5, 300, 10,dtype=int),\n",
    "    'learning_rate': np.linspace(0.05,0.5,5,dtype=float)\n",
    "}\n",
    "cv = GridSearchCV(ab, params, cv = 5, n_jobs = -1)\n",
    "cv.fit(X_train, y_train)\n",
    "pd.DataFrame(cv.cv_results_).sort_values('mean_test_score', ascending = False).head()"
   ]
  },
  {
   "cell_type": "code",
   "execution_count": 18,
   "id": "773c810c",
   "metadata": {},
   "outputs": [
    {
     "name": "stdout",
     "output_type": "stream",
     "text": [
      "Accuracy: 0.8441558441558441\n"
     ]
    }
   ],
   "source": [
    "ab = AdaBoostClassifier(n_estimators=200, learning_rate=0.2)\n",
    "ab.fit(X_train, y_train)\n",
    "y_pred = ab.predict(X_test)\n",
    "print(\"Accuracy:\",metrics.accuracy_score(y_test, y_pred))"
   ]
  },
  {
   "cell_type": "code",
   "execution_count": 8,
   "id": "032fe7df",
   "metadata": {},
   "outputs": [
    {
     "name": "stdout",
     "output_type": "stream",
     "text": [
      "[19:45:53] WARNING: /Users/runner/miniforge3/conda-bld/xgboost-split_1637426408905/work/src/learner.cc:1115: Starting in XGBoost 1.3.0, the default evaluation metric used with the objective 'binary:logistic' was changed from 'error' to 'logloss'. Explicitly set eval_metric if you'd like to restore the old behavior.\n",
      "Accuracy: 0.7922077922077922\n"
     ]
    }
   ],
   "source": [
    "# XGBoost\n",
    "xgc=XGBClassifier(learning_rate=0.2,n_estimators=50, max_depth=5,\n",
    "                  objective= 'binary:logistic',colsample_bytree = 0.8,subsample=0.8,use_label_encoder=False) \n",
    "xgc.fit(X_train, y_train)\n",
    "y_pred=xgc.predict(X_test)\n",
    "print(\"Accuracy:\",metrics.accuracy_score(y_test, y_pred))"
   ]
  },
  {
   "cell_type": "code",
   "execution_count": 21,
   "id": "e8ec948b",
   "metadata": {},
   "outputs": [],
   "source": [
    "status_list=forest.predict(test_xlsx)\n",
    "result=pd.DataFrame()\n",
    "result['ID']=ID_list\n",
    "result['status']=status_list\n",
    "result['status'] = result.status.map({1:'acquired', 0:'closed'})\n",
    "result.to_csv(\"subrandomforest.csv\",index=False)"
   ]
  },
  {
   "cell_type": "code",
   "execution_count": 19,
   "id": "51a4b072",
   "metadata": {},
   "outputs": [],
   "source": [
    "status_list=ab.predict(test_xlsx)\n",
    "result=pd.DataFrame()\n",
    "result['ID']=ID_list\n",
    "result['status']=status_list\n",
    "result['status'] = result.status.map({1:'acquired', 0:'closed'})\n",
    "result.to_csv(\"subadaboost.csv\",index=False)"
   ]
  },
  {
   "cell_type": "code",
   "execution_count": 11,
   "id": "2d2f2e83",
   "metadata": {},
   "outputs": [],
   "source": [
    "status_list=xgc.predict(test_xlsx)\n",
    "result=pd.DataFrame()\n",
    "result['ID']=ID_list\n",
    "result['status']=status_list\n",
    "result['status'] = result.status.map({1:'acquired', 0:'closed'})\n",
    "result.to_csv(\"subxgboost.csv\",index=False)"
   ]
  }
 ],
 "metadata": {
  "kernelspec": {
   "display_name": "Python 3 (ipykernel)",
   "language": "python",
   "name": "python3"
  },
  "language_info": {
   "codemirror_mode": {
    "name": "ipython",
    "version": 3
   },
   "file_extension": ".py",
   "mimetype": "text/x-python",
   "name": "python",
   "nbconvert_exporter": "python",
   "pygments_lexer": "ipython3",
   "version": "3.9.7"
  }
 },
 "nbformat": 4,
 "nbformat_minor": 5
}
